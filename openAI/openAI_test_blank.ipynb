{
 "cells": [
  {
   "cell_type": "markdown",
   "id": "39c0b566",
   "metadata": {},
   "source": [
    "# Trying OpenAI to derive themes\n",
    "\n",
    "I created an OpenAI account.  Note that this has a limitted amount of free time (and then you need to pay for more).\n",
    "\n",
    "Followed installation instructions from here https://platform.openai.com/docs/quickstart (in a different directory)\n",
    "\n",
    "create a conda env called openai\n",
    "```\n",
    "conda create --name openai python=3.10 jupyter pandas\n",
    "conda activate openai\n",
    "pip install -r requirements.txt\n",
    "```\n",
    "\n",
    "Used the \"playground\" online to create a mock code example, copied it and modified it in the notebook."
   ]
  },
  {
   "cell_type": "code",
   "execution_count": null,
   "id": "aa038854",
   "metadata": {},
   "outputs": [],
   "source": [
    "import pandas as pd"
   ]
  },
  {
   "cell_type": "code",
   "execution_count": null,
   "id": "eb34f35c",
   "metadata": {},
   "outputs": [],
   "source": [
    "import openai\n",
    "openai.api_key_path = '.env'"
   ]
  },
  {
   "cell_type": "code",
   "execution_count": null,
   "id": "4b15cd0c",
   "metadata": {},
   "outputs": [],
   "source": [
    "def get_themes(n, text):\n",
    "    prompt =  f'Suggest {n} themes for the following text.\\n\\n{text}\\n\\nthemes:'\n",
    "    response = openai.Completion.create(\n",
    "        model=\"text-davinci-003\",\n",
    "        prompt=prompt,\n",
    "        temperature=0,\n",
    "        max_tokens=n*16,\n",
    "        top_p=1,\n",
    "        frequency_penalty=0,\n",
    "        presence_penalty=0\n",
    "    )\n",
    "    \n",
    "    return response.choices[0].text\n",
    "\n",
    "\n",
    "def summarize_text(text, n=100):\n",
    "    prompt = f'Summarize the following text in {n} words:\\n{text}'\n",
    "    \n",
    "    response = openai.Completion.create(\n",
    "      engine=\"text-davinci-003\", \n",
    "      prompt=prompt,\n",
    "      temperature=0, \n",
    "      max_tokens=150,\n",
    "      top_p=1, \n",
    "      frequency_penalty=0,\n",
    "      presence_penalty=1\n",
    "    )\n",
    "\n",
    "    return response.choices[0].text\n"
   ]
  },
  {
   "cell_type": "markdown",
   "id": "cc97d7d4",
   "metadata": {},
   "source": [
    "## Read in the data and combine all the answers into one long string"
   ]
  },
  {
   "cell_type": "code",
   "execution_count": null,
   "id": "6ea16ecd",
   "metadata": {},
   "outputs": [],
   "source": [
    "# full data file with multiple sheets\n",
    "filename = '../data/ITP_CourseArtifacts_June 2021_END_of_Course_DeIDENTIFIED.xlsx'\n",
    "\n",
    "# sheet name for this analysis, containing responses to one question\n",
    "#sheet = 'Course Meta SelfEff'\n",
    "sheet = 'Course Meta App'\n",
    "\n",
    "df = pd.read_excel(filename, sheet)\n",
    "answers = df[df.columns[1]].values"
   ]
  },
  {
   "cell_type": "markdown",
   "id": "bf6aad35",
   "metadata": {},
   "source": [
    "## Send through openAI"
   ]
  },
  {
   "cell_type": "markdown",
   "id": "22559dd0",
   "metadata": {},
   "source": [
    "### This is too much text to send through openAI in one go\n",
    "\n",
    "Can only send ~4000 \"tokens\", so I will chunk it up and then do one final theme pass on the list of themes from the chunks."
   ]
  },
  {
   "cell_type": "code",
   "execution_count": null,
   "id": "dea6f036",
   "metadata": {},
   "outputs": [],
   "source": [
    "def get_chunk(text, i0 = 0, i1_start = 10, n = 4000):\n",
    "    i1 = i1_start\n",
    "    chunk = ' '.join(answers[i0:i1_start])\n",
    "    chunk_len = len(chunk.split())*4./3. # apparently this is a rule of thumb for counting tokens (seems to overestimate)\n",
    "    while (chunk_len > n and i1 > i0):\n",
    "        i1 -= 1\n",
    "        chunk = ' '.join(answers[i0:i1])\n",
    "        chunk_len = len(chunk.split())*4./3. # apparently this is a rule of thumb for counting tokens (seems to overestimate)\n",
    "    if (i1 == i0):\n",
    "        return (-1,'ERROR: answer too long', chunk_len)\n",
    "    else:\n",
    "        return (i1, chunk, chunk_len)"
   ]
  },
  {
   "cell_type": "code",
   "execution_count": null,
   "id": "f342e5d9",
   "metadata": {},
   "outputs": [],
   "source": [
    "chunk_size = 50\n",
    "i0 = 0\n",
    "i1 = chunk_size\n",
    "n_themes = 5\n",
    "all_themes = []\n",
    "#print(len(answers))\n",
    "while i1 < len(df):\n",
    "    # get the chunk\n",
    "    i1, chunk, chunk_len = get_chunk(answers, i0, i1, n = 4000)\n",
    "    #print(i0, i1, chunk_len)\n",
    "    if (i1 == -1):\n",
    "        break\n",
    "        \n",
    "    i0 = i1\n",
    "    i1 = i0 + chunk_size\n",
    "    \n",
    "    # run this chunk through openAI\n",
    "    themes = get_themes(n_themes, chunk)\n",
    "    all_themes.append(themes)\n",
    "    print(themes)"
   ]
  },
  {
   "cell_type": "code",
   "execution_count": null,
   "id": "505ceb6e",
   "metadata": {},
   "outputs": [],
   "source": [
    "# get final themes from these intermediate themes, but first remove the numbers\n",
    "summary_themes = get_themes(10, ''.join([i for i in ' '.join(all_themes) if not i.isdigit()]))\n",
    "print(summary_themes)"
   ]
  },
  {
   "cell_type": "markdown",
   "id": "bbd7b92a",
   "metadata": {},
   "source": [
    "## Scratch below"
   ]
  },
  {
   "cell_type": "code",
   "execution_count": null,
   "id": "0a3e498d",
   "metadata": {},
   "outputs": [],
   "source": [
    "''.join([i for i in ' '.join(all_themes) if not i.isdigit()])"
   ]
  },
  {
   "cell_type": "code",
   "execution_count": null,
   "id": "8b49dd43",
   "metadata": {},
   "outputs": [],
   "source": [
    "i1, chunk, chunk_len = get_chunk(answers, 0, len(answers), n = 1e5)"
   ]
  },
  {
   "cell_type": "code",
   "execution_count": null,
   "id": "a9e19317",
   "metadata": {},
   "outputs": [],
   "source": [
    "n = 10\n",
    "print(f'Suggest {n} themes for the following text.\\n\\n{chunk}')"
   ]
  },
  {
   "cell_type": "code",
   "execution_count": null,
   "id": "46e7dfd4",
   "metadata": {
    "scrolled": false
   },
   "outputs": [],
   "source": [
    "# for ChatGPT\n",
    "all_themes = []\n",
    "chunk_size = 50\n",
    "i0 = 0\n",
    "i1 = chunk_size\n",
    "n_themes = 5\n",
    "all_themes = []\n",
    "#print(len(answers))\n",
    "while i1 < len(df):\n",
    "    # get the chunk\n",
    "    i1, chunk, chunk_len = get_chunk(answers, i0, i1, n = 3500)\n",
    "    #print(i0, i1, chunk_len)\n",
    "    if (i1 == -1):\n",
    "        break\n",
    "        \n",
    "    print(f'Suggest {n_themes} themes for the following text.\\n\\n{chunk}')\n",
    "    break\n"
   ]
  },
  {
   "cell_type": "code",
   "execution_count": null,
   "id": "7057870c",
   "metadata": {},
   "outputs": [],
   "source": []
  }
 ],
 "metadata": {
  "kernelspec": {
   "display_name": "Python 3",
   "language": "python",
   "name": "python3"
  },
  "language_info": {
   "codemirror_mode": {
    "name": "ipython",
    "version": 3
   },
   "file_extension": ".py",
   "mimetype": "text/x-python",
   "name": "python",
   "nbconvert_exporter": "python",
   "pygments_lexer": "ipython3",
   "version": "3.6.13"
  }
 },
 "nbformat": 4,
 "nbformat_minor": 5
}
