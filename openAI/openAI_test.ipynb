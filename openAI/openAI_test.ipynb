{
 "cells": [
  {
   "cell_type": "code",
   "execution_count": null,
   "id": "aa038854",
   "metadata": {},
   "outputs": [],
   "source": [
    "import pandas as pd"
   ]
  },
  {
   "cell_type": "code",
   "execution_count": null,
   "id": "65c0dbd4",
   "metadata": {},
   "outputs": [],
   "source": [
    "import openai\n",
    "openai.api_key_path = '.env'"
   ]
  },
  {
   "cell_type": "code",
   "execution_count": null,
   "id": "deaa00ec",
   "metadata": {},
   "outputs": [],
   "source": [
    "def get_themes(n, text):\n",
    "    prompt =  f'Suggest {n} themes for the following text.\\n\\n{text}\\n\\nthemes:'\n",
    "    response = openai.Completion.create(\n",
    "        model=\"text-davinci-003\",\n",
    "        prompt=prompt,\n",
    "        temperature=0,\n",
    "        max_tokens=n*16,\n",
    "        top_p=1,\n",
    "        frequency_penalty=0,\n",
    "        presence_penalty=0\n",
    "    )\n",
    "    \n",
    "    return response.choices[0].text\n",
    "\n",
    "\n",
    "def summarize_text(text, n=100):\n",
    "    prompt = f'Summarize the following text in {n} words:\\n{text}'\n",
    "    \n",
    "    response = openai.Completion.create(\n",
    "      engine=\"text-davinci-003\", \n",
    "      prompt=prompt,\n",
    "      temperature=0, \n",
    "      max_tokens=150,\n",
    "      top_p=1, \n",
    "      frequency_penalty=0,\n",
    "      presence_penalty=1\n",
    "    )\n",
    "\n",
    "    return response.choices[0].text\n"
   ]
  },
  {
   "cell_type": "markdown",
   "id": "8f933b3e",
   "metadata": {},
   "source": [
    "## Read in the data and combine all the answers into one long string"
   ]
  },
  {
   "cell_type": "code",
   "execution_count": null,
   "id": "f3b5203c",
   "metadata": {},
   "outputs": [],
   "source": [
    "# full data file with multiple sheets\n",
    "filename = '../data/ITP_CourseArtifacts_June 2021_END_of_Course_DeIDENTIFIED.xlsx'\n",
    "\n",
    "# sheet name for this analysis, containing responses to one question\n",
    "#sheet = 'Course Meta SelfEff'\n",
    "sheet = 'Course Meta App'\n",
    "\n",
    "df = pd.read_excel(filename, sheet)\n",
    "answers = df[df.columns[1]].values"
   ]
  },
  {
   "cell_type": "markdown",
   "id": "5e379baa",
   "metadata": {},
   "source": [
    "## Send through openAI"
   ]
  },
  {
   "cell_type": "markdown",
   "id": "5e4384ac",
   "metadata": {},
   "source": [
    "### This is too much text to send through openAI in one go\n",
    "\n",
    "Can only send ~4000 \"tokens\", so I will chunk it up and then do one final theme pass on the list of themes from the chunks."
   ]
  },
  {
   "cell_type": "code",
   "execution_count": null,
   "id": "31389431",
   "metadata": {},
   "outputs": [],
   "source": [
    "def get_chunk(text, i0 = 0, i1_start = 10, n = 4000):\n",
    "    i1 = i1_start\n",
    "    chunk = ' '.join(answers[i0:i1_start])\n",
    "    chunk_len = len(chunk.split())*4./3. # apparently this is a rule of thumb for counting tokens (seems to overestimate)\n",
    "    while (chunk_len > n and i1 > i0):\n",
    "        i1 -= 1\n",
    "        chunk = ' '.join(answers[i0:i1])\n",
    "        chunk_len = len(chunk.split())*4./3. # apparently this is a rule of thumb for counting tokens (seems to overestimate)\n",
    "    if (i1 == i0):\n",
    "        return (-1,'ERROR: answer too long', chunk_len)\n",
    "    else:\n",
    "        return (i1, chunk, chunk_len)"
   ]
  },
  {
   "cell_type": "code",
   "execution_count": null,
   "id": "1e9e1860",
   "metadata": {},
   "outputs": [],
   "source": [
    "chunk_size = 50\n",
    "i0 = 0\n",
    "i1 = chunk_size\n",
    "n_themes = 5\n",
    "all_themes = []\n",
    "#print(len(answers))\n",
    "while i1 < len(df):\n",
    "    # get the chunk\n",
    "    i1, chunk, chunk_len = get_chunk(answers, i0, i1, n = 4000)\n",
    "    #print(i0, i1, chunk_len)\n",
    "    if (i1 == -1):\n",
    "        break\n",
    "        \n",
    "    i0 = i1\n",
    "    i1 = i0 + chunk_size\n",
    "    \n",
    "    # run this chunk through openAI\n",
    "    themes = get_themes(n_themes, chunk)\n",
    "    all_themes.append(themes)\n",
    "    print(themes)"
   ]
  },
  {
   "cell_type": "code",
   "execution_count": null,
   "id": "f9613811",
   "metadata": {},
   "outputs": [],
   "source": [
    "summary_themes = get_themes(5, ' '.join(all_themes))\n",
    "print(summary_themes)"
   ]
  },
  {
   "cell_type": "code",
   "execution_count": null,
   "id": "fe75d839",
   "metadata": {},
   "outputs": [],
   "source": []
  }
 ],
 "metadata": {
  "kernelspec": {
   "display_name": "Python 3 (ipykernel)",
   "language": "python",
   "name": "python3"
  },
  "language_info": {
   "codemirror_mode": {
    "name": "ipython",
    "version": 3
   },
   "file_extension": ".py",
   "mimetype": "text/x-python",
   "name": "python",
   "nbconvert_exporter": "python",
   "pygments_lexer": "ipython3",
   "version": "3.10.9"
  }
 },
 "nbformat": 4,
 "nbformat_minor": 5
}
