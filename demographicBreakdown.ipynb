{
 "cells": [
  {
   "cell_type": "markdown",
   "id": "54143b51",
   "metadata": {},
   "source": [
    "# Determine the demographic breakdown of the participants\n",
    "\n",
    "We want to know the most frequent categories of the participants, including all overlaps."
   ]
  },
  {
   "cell_type": "code",
   "execution_count": null,
   "id": "a85ef5ad",
   "metadata": {},
   "outputs": [],
   "source": [
    "import pandas as pd\n",
    "import numpy as np\n",
    "import itertools"
   ]
  },
  {
   "cell_type": "code",
   "execution_count": null,
   "id": "b144ea01",
   "metadata": {},
   "outputs": [],
   "source": [
    "def getDemographics(inputdf):\n",
    "\n",
    "    # loop through all the columns and groupby all the other columns to get the overlaps\n",
    "    # if i == 0, then we find the overlaps of all columns\n",
    "    # if i > 0, then we ignore any columns < i, and replace their values with nan\n",
    "    # using method from : https://stackoverflow.com/questions/35268817/unique-combinations-of-values-in-selected-columns-in-pandas-data-frame-and-count\n",
    "\n",
    "    n = 0\n",
    "    cols = inputdf.columns\n",
    "    for i in np.arange(1, len(cols)):\n",
    "        # get all the combinations of i columns in useCols\n",
    "        itr = list(itertools.combinations(cols, i))\n",
    "        print(i, len(itr))\n",
    "\n",
    "        # these columns will be used in groupby while others will be anything\n",
    "        for useColList in itr:\n",
    "            g = inputdf.groupby(list(useColList)).size().reset_index().rename(columns = {0:'count'})\n",
    "\n",
    "            # add the missing column(s) as NaN \n",
    "            for cc in cols:\n",
    "                if (cc not in useColList):\n",
    "                    g.insert(0, cc, np.nan)\n",
    "\n",
    "            # remove any rows that are all nans (excluding count)\n",
    "            g.dropna(how = 'all', inplace = True, subset = useColList)\n",
    "\n",
    "            # move the count column to be first\n",
    "            count = g.pop('count')\n",
    "            g.insert(0, 'count', count)\n",
    "\n",
    "            if (n == 0):\n",
    "                groupdf = g\n",
    "            else:\n",
    "                groupdf = pd.concat([groupdf, g])\n",
    "\n",
    "            n += 1\n",
    "\n",
    "        print(len(groupdf))\n",
    "\n",
    "    # convert any entry with a space or blank entry to nan\n",
    "    groupdf.replace(r'^\\s*$', np.nan, regex=True, inplace = True)\n",
    "\n",
    "    # remove duplicates\n",
    "    groupdf.drop_duplicates(keep = 'first', inplace = True)\n",
    "\n",
    "    # sort\n",
    "    groupdf = groupdf.sort_values(by = 'count', ascending = False)\n",
    "\n",
    "    # add a column that has the fraction of total\n",
    "    groupdf.insert(1, 'fraction', groupdf['count']/len(df))\n",
    "\n",
    "    # add a column to count the number of non-nan entries in each row (excluding \"count\" and \"fraction\")\n",
    "    groupdf.insert(2, 'nAxes', groupdf.count(axis = 1) - 2)\n",
    "\n",
    "    # remove any rows with nAxes == 0\n",
    "    groupdf = groupdf.loc[groupdf['nAxes'] > 0].reset_index(drop = True)\n",
    "\n",
    "    # take only the rows with > 5 people in the group and sort\n",
    "    groupdfTrim = groupdf.loc[groupdf['count'] > 5]\n",
    "    \n",
    "    # coimbine groups into a single columns, and output a condensed file\n",
    "    groups = []\n",
    "\n",
    "    for i,row in groupdf.iterrows():\n",
    "        foo = row[cols].copy().dropna().values\n",
    "\n",
    "        group = [x for x in foo if x != '' and not x.isspace()]\n",
    "        groups.append('; '.join(group))\n",
    "\n",
    "    outdf = groupdf[['count','fraction','nAxes']].copy()\n",
    "    outdf['group'] = groups\n",
    "    \n",
    "    return groupdf, groupdfTrim, outdf"
   ]
  },
  {
   "cell_type": "code",
   "execution_count": null,
   "id": "fa5df10c",
   "metadata": {},
   "outputs": [],
   "source": [
    "# mapping for the answer from numbers to words from the SP22_RQ2_Participant_ISTP.docx file\n",
    "# I am going to ignore \"Other\" answers\n",
    "roleMap = {\n",
    "    1:'Faculty member, lecturer, instructor, or adjunct faculty',\n",
    "    2:'Graduate student',\n",
    "    3:'Posdoctoral scholar',\n",
    "    4:'Staff member',\n",
    "#    5:'Other (role)'\n",
    "    5:np.nan\n",
    "}\n",
    "disciplineMap = {\n",
    "    1:'Agriculture and natural resource sciences',\n",
    "    2:'Arts',\n",
    "    3:'Biological and life sciences',\n",
    "    4:'Business and management science',\n",
    "    5:'Chemistry',\n",
    "    6:'Computer, information, and technological sciences',\n",
    "    7:'Earth, environmental, atmospheric, and ocean sciences',\n",
    "    8:'Education',\n",
    "    9:'Engineering',\n",
    "    10:'Humanities',\n",
    "    11:'Law',\n",
    "    12:'Mathematics and Statistics',\n",
    "    13:'Medical sciences',\n",
    "    14:'Physical sciences',\n",
    "    15:'Psychology',\n",
    "    16:'Social, behavioral, and economic sciences (not including psychology)',\n",
    "#    17:'Other (discipline)'\n",
    "    17:np.nan\n",
    "}\n",
    "institutionMap = {\n",
    "    1:'Community college / 2-year institution',\n",
    "    7:'Comprehensive or Regional University (e.g., smaller state school, schools that offer mostly bachelor or masters degrees)',\n",
    "    8:'Liberal arts college',\n",
    "    9:'Research University',\n",
    "    10:'Technical college', \n",
    "#    11:'Other (institution)'\n",
    "    11:np.nan\n",
    "}\n",
    "genderMap = {\n",
    "    1:'Gender queer or gender non-conforming', \n",
    "    8:'Man',\n",
    "    9:'Nonbinary',\n",
    "    10:'Transman',\n",
    "    14:'Transwoman', \n",
    "    11:'Woman', \n",
    "#    12:'I self-describe as (gender)',\n",
    "#    13:'I prefer not to respond (gender).'\n",
    "    12:np.nan,\n",
    "    13:np.nan\n",
    "}\n",
    "firstgenMap = {1:'first gen'}\n",
    "armyMap = {1:'veteran'}\n",
    "\n",
    "# these are checkboxes so I will keep each individual column\n",
    "institutionTypeMap = {\n",
    "    1:'Asian American and Pacific Islander Serving Institution (AAPISI)',\n",
    "    8:'Hispanic Serving Institution (HSI)', \n",
    "    9:'Historically Black College and University (HBCU)', \n",
    "    10:'Predominantly White Institution (PWI)',\n",
    "    11:'Tribal College/University',\n",
    "    12:'Other Minority Serving Institution (MSI)',\n",
    "#    13:'I am not sure (institution)'\n",
    "    13: np.nan\n",
    "}\n",
    "raceMap = {\n",
    "    1:'Alaska Native, American Indian, Native American or Indigenous',\n",
    "    14:'Asian American',\n",
    "    15:'Black or African American',\n",
    "    16:'East Asian',\n",
    "    17:'Latina/o/x or Hispanic',\n",
    "    18:'Middle Eastern or Northern African',\n",
    "    19:'Pacific Islander',\n",
    "    20:'South Asian',\n",
    "    21:'Southeast Asian',\n",
    "    22:'White',\n",
    "    23:'Multiracial',\n",
    "#    24:'I self-describe as (race):',\n",
    "#    25:'I prefer not to respond (race).'\n",
    "    24:np.nan,\n",
    "    25:np.nan\n",
    "}\n",
    "raceMap2 = {\n",
    "    'nativA':'Alaska Native, American Indian, Native American or Indigenous',\n",
    "    'asianA':'Asian American',\n",
    "    'africanA':'Black or African American',\n",
    "    'asianE':'East Asian',\n",
    "    'latinx':'Latina/o/x or Hispanic',\n",
    "    'MENA':'Middle Eastern or Northern African',\n",
    "    'pi':'Pacific Islander',\n",
    "    'asianS':'South Asian',\n",
    "    'asianSE':'Southeast Asian',\n",
    "    'white':'White',\n",
    "    'multi':'Multiracial',\n",
    "}\n",
    "tenureMap = {\n",
    "    7:'Tenured (associate or full professor status)',\n",
    "    19:'Tenure-track (assistant professor status)',\n",
    "    12:'Full-time teaching or instructional track on a fixed-term renewable contract',\n",
    "    20:'Full-time teaching or instructional on a fixed-term, non-renewable contract',\n",
    "    23:'Part-time teaching or instructional on a fixed-term, non-renewable contract',\n",
    "    22:'Research faculty on a fixed-term, renewable contract',\n",
    "    21:'Research faculty on a fixed-term, non-renewable contract',\n",
    "    15:np.nan\n",
    "}"
   ]
  },
  {
   "cell_type": "markdown",
   "id": "4d92bcb6",
   "metadata": {},
   "source": [
    "## First file\n",
    "\n",
    "`data/Consent_Pre_Post_MERGE.sav`"
   ]
  },
  {
   "cell_type": "code",
   "execution_count": null,
   "id": "d004b9be",
   "metadata": {},
   "outputs": [],
   "source": [
    "# this is a file that combines results from multiple surveys. \n",
    "# the challenge is going to be identifying the useful columns and what questions they belong to!\n",
    "df = pd.read_spss('data/Consent_Pre_Post_MERGE.sav')\n",
    "df"
   ]
  },
  {
   "cell_type": "code",
   "execution_count": null,
   "id": "7fcdd107",
   "metadata": {},
   "outputs": [],
   "source": [
    "cols = df.columns.values\n",
    "print(cols)"
   ]
  },
  {
   "cell_type": "code",
   "execution_count": null,
   "id": "e005e488",
   "metadata": {},
   "outputs": [],
   "source": [
    "# I think these are the important columns\n",
    "# They appear to come from the SP22_RQ2_Participant_ISTP.docx file\n",
    "# missing faculty status question\n",
    "useCols = [\n",
    "    'primerole_march22', 'discipline_march22', 'institution_march22', 'gender_march22',\n",
    "    #'firstgen0322', 'army',\n",
    "    'institution1', 'institution8', 'institution9', 'institution10', 'institution11', 'institution12',# 'institution13',\n",
    "    'race_nativA_march22', 'race_asianA_march22',\n",
    "    'race_africanA_march22', 'race_asianE_march22', 'race_latinx_march22',\n",
    "    'race_MENA_march22', 'race_pi_march22', 'race_asianS_march22',\n",
    "    'race_asianSE_march22', 'race_white_march22', 'race_multi_march22'\n",
    "]"
   ]
  },
  {
   "cell_type": "code",
   "execution_count": null,
   "id": "9327c8ab",
   "metadata": {},
   "outputs": [],
   "source": [
    "usedf = df[useCols].dropna(how = 'all').reset_index(drop = True)#.fillna(0)\n",
    "usedf"
   ]
  },
  {
   "cell_type": "code",
   "execution_count": null,
   "id": "878d3398",
   "metadata": {},
   "outputs": [],
   "source": [
    "def findRange(col):\n",
    "    return [np.min(usedf[col].fillna(0).values), np.max(usedf[col].fillna(0).values)]"
   ]
  },
  {
   "cell_type": "code",
   "execution_count": null,
   "id": "b26aaf1b",
   "metadata": {},
   "outputs": [],
   "source": [
    "for i,c in enumerate(useCols):\n",
    "    print(c, findRange(c))"
   ]
  },
  {
   "cell_type": "code",
   "execution_count": null,
   "id": "d88674e9",
   "metadata": {},
   "outputs": [],
   "source": [
    "# I need to create a combined column that has the checkbox results as a list (for all non-nan)\n",
    "# otherwise, it will take way to long to iterate over all these columns!\n",
    "# I think maybe now would be a good time to convert to human readable format\n",
    "\n",
    "# replace numbers with values\n",
    "replacements = {\n",
    "    'primerole_march22':roleMap,\n",
    "    'discipline_march22':disciplineMap,\n",
    "    'institution_march22':institutionMap,\n",
    "    'gender_march22':genderMap,\n",
    "    'firstgen0322':firstgenMap,\n",
    "    'army':armyMap\n",
    "}\n",
    "\n",
    "for key, value in institutionTypeMap.items():\n",
    "    col = 'institution' + str(key)\n",
    "    replacements[col] = {1:value}\n",
    "    \n",
    "for key, value in raceMap2.items():\n",
    "    col = 'race_' + key + '_march22'\n",
    "    replacements[col] = {1:value}\n",
    "\n",
    "usedfHuman = usedf.replace(replacements)\n",
    "\n",
    "# now combine the institution and race columns into single columns, respectively\n",
    "institutionCols = ['institution1', 'institution8', 'institution9', 'institution10', 'institution11', 'institution12']\n",
    "foo = usedfHuman[institutionCols].values.tolist() \n",
    "institutionType = [ ', '.join([x for x in y if str(x) != 'nan']) for y in foo]\n",
    "usedfHuman.drop(institutionCols, axis = 1, inplace = True)\n",
    "usedfHuman['institutionType_march22'] = institutionType\n",
    "\n",
    "raceCols = ['race_nativA_march22', 'race_asianA_march22',\n",
    "    'race_africanA_march22', 'race_asianE_march22', 'race_latinx_march22',\n",
    "    'race_MENA_march22', 'race_pi_march22', 'race_asianS_march22',\n",
    "    'race_asianSE_march22', 'race_white_march22', 'race_multi_march22']\n",
    "foo = usedfHuman[raceCols].values.tolist() \n",
    "raceType = [ ', '.join([x for x in y if str(x) != 'nan']) for y in foo]\n",
    "usedfHuman.drop(raceCols, axis = 1, inplace = True)\n",
    "usedfHuman['race_march22'] = raceType\n",
    "\n",
    "usedfHuman"
   ]
  },
  {
   "cell_type": "code",
   "execution_count": null,
   "id": "50b8d65f",
   "metadata": {},
   "outputs": [],
   "source": [
    "groupdf, groupdfTrim, outdf = getDemographics(usedfHuman)"
   ]
  },
  {
   "cell_type": "code",
   "execution_count": null,
   "id": "4350e368",
   "metadata": {},
   "outputs": [],
   "source": [
    "groupdfTrim"
   ]
  },
  {
   "cell_type": "code",
   "execution_count": null,
   "id": "6a26f7fe",
   "metadata": {},
   "outputs": [],
   "source": [
    "outdf"
   ]
  },
  {
   "cell_type": "code",
   "execution_count": null,
   "id": "cee842b2",
   "metadata": {},
   "outputs": [],
   "source": [
    "outdf.to_csv('data/Consent_Pre_Post_MERGE_demographicsGroupsCondensed.csv', index = False)\n",
    "groupdf.to_csv('data/Consent_Pre_Post_MERGE_demographicsGroupsFull.csv', index = False)"
   ]
  },
  {
   "cell_type": "markdown",
   "id": "1b16dae4",
   "metadata": {},
   "source": [
    "## Second file\n",
    "`data/Cleaned_ISTP_Participant_Data.csv`"
   ]
  },
  {
   "cell_type": "code",
   "execution_count": null,
   "id": "f6860197",
   "metadata": {},
   "outputs": [],
   "source": [
    "df = pd.read_csv('data/Cleaned_ISTP_Participant_Data.csv')\n",
    "df"
   ]
  },
  {
   "cell_type": "code",
   "execution_count": null,
   "id": "299b4954",
   "metadata": {},
   "outputs": [],
   "source": [
    "# important columns (trying for same as in the first file)\n",
    "# this does include the faculty status\n",
    "# They appear to come from the SP22_RQ2_Participant_ISTP.docx file\n",
    "# Q35.1 (institution designation), Q37 (race) need to be split\n",
    "# role, discipline, institution type, gender, faculty status, institution designation, race\n",
    "useCols = [\n",
    "    'Q31', 'Q33.1', 'Q34.1', 'Q36', 'Q35', 'Q35.1','Q37'\n",
    "]"
   ]
  },
  {
   "cell_type": "code",
   "execution_count": null,
   "id": "82a6769a",
   "metadata": {},
   "outputs": [],
   "source": [
    "usedf = df[useCols].dropna(how = 'all').reset_index(drop = True)#.fillna(0)\n",
    "usedf"
   ]
  },
  {
   "cell_type": "code",
   "execution_count": null,
   "id": "8edee2b6",
   "metadata": {},
   "outputs": [],
   "source": [
    "# replace the entries\n",
    "\n",
    "# replace numbers with values\n",
    "replacements = {\n",
    "    'Q31':roleMap,\n",
    "    'Q33.1':disciplineMap,\n",
    "    'Q34.1':institutionMap,\n",
    "    'Q36':genderMap,\n",
    "    'Q35':tenureMap,\n",
    "#     'Q35.1':institutionTypeMap,\n",
    "#     'Q37':raceMap\n",
    "}\n",
    "\n",
    "\n",
    "usedfHuman = usedf.replace(replacements)\n",
    "\n",
    "# treat the cells with multiple entries a bit differently\n",
    "# add a comma to the end of each entry so that I can use that to divide the values\n",
    "c = 'Q35.1'\n",
    "m = institutionTypeMap\n",
    "usedfHuman[c].loc[~pd.isna(usedfHuman[c])] = usedfHuman[c].loc[~pd.isna(usedfHuman[c])].astype(str) + ','\n",
    "for key, value in m.items():\n",
    "    val = value\n",
    "    if (pd.isna(val)):\n",
    "        val = ''\n",
    "    print(key, val)\n",
    "    usedfHuman[c] = usedfHuman[c].str.replace(str(key) + ',', str(val) + ', ')\n",
    "    \n",
    "c = 'Q37'\n",
    "m = raceMap\n",
    "usedfHuman[c].loc[~pd.isna(usedfHuman[c])] = usedfHuman[c].loc[~pd.isna(usedfHuman[c])].astype(str) + ','\n",
    "for key, value in m.items():\n",
    "    val = value\n",
    "    if (pd.isna(val)):\n",
    "        val = ''\n",
    "    print(key, val)\n",
    "    usedfHuman[c] = usedfHuman[c].str.replace(str(key) + ',', str(val) + ', ')\n",
    "    \n",
    "# also replace the column names\n",
    "usedfHuman.rename(columns = {'Q31': 'Q31-role', \n",
    "                            'Q33.1': 'Q33.1-discipline',\n",
    "                            'Q34.1' : 'Q34.1-institution',\n",
    "                            'Q36':'Q36-gender',\n",
    "                            'Q35':'Q35-tenure',\n",
    "                            'Q35.1':'Q35.1-institutionType',\n",
    "                            'Q37':'Q37-race'}, \n",
    "                  inplace=True)\n",
    "\n",
    "# remove any extra commas\n",
    "usedfHuman = usedfHuman.applymap(lambda x: str(x).rstrip(', '))\n",
    "\n",
    "# fix any lingering nan values\n",
    "usedfHuman.replace('nan',np.nan, inplace = True)\n",
    "\n",
    "usedfHuman"
   ]
  },
  {
   "cell_type": "code",
   "execution_count": null,
   "id": "37293545",
   "metadata": {},
   "outputs": [],
   "source": [
    "groupdf, groupdfTrim, outdf = getDemographics(usedfHuman)"
   ]
  },
  {
   "cell_type": "code",
   "execution_count": null,
   "id": "1c72f44e",
   "metadata": {},
   "outputs": [],
   "source": [
    "groupdfTrim"
   ]
  },
  {
   "cell_type": "code",
   "execution_count": null,
   "id": "1afa8e90",
   "metadata": {},
   "outputs": [],
   "source": [
    "outdf"
   ]
  },
  {
   "cell_type": "code",
   "execution_count": null,
   "id": "ecc1521d",
   "metadata": {},
   "outputs": [],
   "source": [
    "outdf.to_csv('data/Cleaned_ISTP_Participant_Data_demographicsGroupsCondensed.csv', index = False)\n",
    "groupdf.to_csv('data/Cleaned_ISTP_Participant_Data_demographicsGroupsFull.csv', index = False)"
   ]
  },
  {
   "cell_type": "markdown",
   "id": "f7a040d7",
   "metadata": {},
   "source": [
    "## Third file\n",
    "`data/Cleaned_ISTP_Facilitator_Data.csv`"
   ]
  },
  {
   "cell_type": "code",
   "execution_count": null,
   "id": "3f530c8b",
   "metadata": {},
   "outputs": [],
   "source": [
    "df = pd.read_csv('data/Cleaned_ISTP_Facilitator_Data.csv')\n",
    "df"
   ]
  },
  {
   "cell_type": "code",
   "execution_count": null,
   "id": "74a781e1",
   "metadata": {},
   "outputs": [],
   "source": [
    "# important columns (trying for same as in the first file)\n",
    "# this does not appear to include the faculty status\n",
    "# They appear to come from the SP22_RQ2_Participant_ISTP.docx file\n",
    "# Q35 (institution designation), Q37 (race) need to be split\n",
    "# role, discipline, institution type, gender, institution designation, race\n",
    "useCols = [\n",
    "    'Q31', 'Q33', 'Q34', 'Q36', 'Q35', 'Q37'\n",
    "]"
   ]
  },
  {
   "cell_type": "code",
   "execution_count": null,
   "id": "264ef480",
   "metadata": {},
   "outputs": [],
   "source": [
    "usedf = df[useCols].dropna(how = 'all').reset_index(drop = True)#.fillna(0)\n",
    "usedf"
   ]
  },
  {
   "cell_type": "code",
   "execution_count": null,
   "id": "9b3ee41f",
   "metadata": {},
   "outputs": [],
   "source": [
    "# replace the entries\n",
    "\n",
    "# replace numbers with values\n",
    "replacements = {\n",
    "    'Q31':roleMap,\n",
    "    'Q33':disciplineMap,\n",
    "    'Q34':institutionMap,\n",
    "    'Q36':genderMap,\n",
    "#     'Q35':tenureMap,\n",
    "#     'Q35.1':institutionTypeMap,\n",
    "#     'Q37':raceMap\n",
    "}\n",
    "\n",
    "\n",
    "usedfHuman = usedf.replace(replacements)\n",
    "\n",
    "# treat the cells with multiple entries a bit differently\n",
    "# add a comma to the end of each entry so that I can use that to divide the values\n",
    "c = 'Q35'\n",
    "m = institutionTypeMap\n",
    "usedfHuman[c].loc[~pd.isna(usedfHuman[c])] = usedfHuman[c].loc[~pd.isna(usedfHuman[c])].astype(str) + ','\n",
    "for key, value in m.items():\n",
    "    val = value\n",
    "    if (pd.isna(val)):\n",
    "        val = ''\n",
    "    print(key, val)\n",
    "    usedfHuman[c] = usedfHuman[c].str.replace(str(key) + ',', str(val) + ', ')\n",
    "\n",
    "c = 'Q37'\n",
    "m = raceMap\n",
    "usedfHuman[c].loc[~pd.isna(usedfHuman[c])] = usedfHuman[c].loc[~pd.isna(usedfHuman[c])].astype(str) + ','\n",
    "for key, value in m.items():\n",
    "    val = value\n",
    "    if (pd.isna(val)):\n",
    "        val = ''\n",
    "    usedfHuman[c] = usedfHuman[c].str.replace(str(key) + ',', str(val) + ', ')\n",
    "\n",
    "# also replace the column names\n",
    "usedfHuman.rename(columns = {'Q31': 'Q31-role', \n",
    "                            'Q33': 'Q33-discipline',\n",
    "                            'Q34' : 'Q34-institution',\n",
    "                            'Q36':'Q36-gender',\n",
    "                            #'Q35':'Q35-tenure',\n",
    "                            'Q35':'Q35-institutionType',\n",
    "                            'Q37':'Q37-race'}, \n",
    "                  inplace=True)\n",
    "\n",
    "# remove any extra commas\n",
    "usedfHuman = usedfHuman.applymap(lambda x: str(x).rstrip(', '))\n",
    "\n",
    "# fix any lingering nan values\n",
    "usedfHuman.replace('nan',np.nan, inplace = True)\n",
    "\n",
    "usedfHuman"
   ]
  },
  {
   "cell_type": "code",
   "execution_count": null,
   "id": "5eaaa643",
   "metadata": {},
   "outputs": [],
   "source": [
    "groupdf, groupdfTrim, outdf = getDemographics(usedfHuman)"
   ]
  },
  {
   "cell_type": "code",
   "execution_count": null,
   "id": "d9e67ed1",
   "metadata": {},
   "outputs": [],
   "source": [
    "groupdfTrim"
   ]
  },
  {
   "cell_type": "code",
   "execution_count": null,
   "id": "47457125",
   "metadata": {},
   "outputs": [],
   "source": [
    "outdf"
   ]
  },
  {
   "cell_type": "code",
   "execution_count": null,
   "id": "4b414e37",
   "metadata": {},
   "outputs": [],
   "source": [
    "outdf.to_csv('data/Cleaned_ISTP_Facilitator_Data_demographicsGroupsCondensed.csv', index = False)\n",
    "groupdf.to_csv('data/Cleaned_ISTP_Facilitator_Data_demographicsGroupsFull.csv', index = False)"
   ]
  },
  {
   "cell_type": "code",
   "execution_count": null,
   "id": "cfee3632",
   "metadata": {},
   "outputs": [],
   "source": []
  },
  {
   "cell_type": "code",
   "execution_count": null,
   "id": "f9ceff88",
   "metadata": {},
   "outputs": [],
   "source": []
  },
  {
   "cell_type": "markdown",
   "id": "b35bf164",
   "metadata": {},
   "source": [
    "## Scratch below"
   ]
  },
  {
   "cell_type": "code",
   "execution_count": null,
   "id": "e14c8e77",
   "metadata": {},
   "outputs": [],
   "source": [
    "# this file does not have enough demographics info\n",
    "df = pd.read_spss('data/ParticipantProfile.sav')\n",
    "df"
   ]
  },
  {
   "cell_type": "code",
   "execution_count": null,
   "id": "b3155c47",
   "metadata": {},
   "outputs": [],
   "source": [
    "cols = df.columns.values\n",
    "print(cols)"
   ]
  },
  {
   "cell_type": "code",
   "execution_count": null,
   "id": "d3ed0331",
   "metadata": {},
   "outputs": [],
   "source": [
    "# looks like this data is included in the other file and not any more helpful to distinguish which questions is which\n",
    "df = pd.read_spss('data/Pre_Survey_Oct21.sav')\n",
    "df"
   ]
  },
  {
   "cell_type": "code",
   "execution_count": null,
   "id": "efde6c44",
   "metadata": {},
   "outputs": [],
   "source": [
    "cols = df.columns.values\n",
    "print(cols)"
   ]
  }
 ],
 "metadata": {
  "kernelspec": {
   "display_name": "Python 3 (ipykernel)",
   "language": "python",
   "name": "python3"
  },
  "language_info": {
   "codemirror_mode": {
    "name": "ipython",
    "version": 3
   },
   "file_extension": ".py",
   "mimetype": "text/x-python",
   "name": "python",
   "nbconvert_exporter": "python",
   "pygments_lexer": "ipython3",
   "version": "3.10.6"
  }
 },
 "nbformat": 4,
 "nbformat_minor": 5
}
